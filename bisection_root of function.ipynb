{
 "cells": [
  {
   "cell_type": "code",
   "execution_count": 15,
   "metadata": {},
   "outputs": [
    {
     "name": "stdout",
     "output_type": "stream",
     "text": [
      "first guess: 0\n",
      "second guess: 10\n",
      "tolerable error: 0.00001\n",
      "\n",
      "\n",
      "*** BISECTION METHOD IMPLEMENTATION ***\n",
      "Interasi-1, x2=5.000000 and f(x2)=-4.716338\n",
      "Interasi-2, x2=2.500000 and f(x2)=-3.301144\n",
      "Interasi-3, x2=1.250000 and f(x2)=-0.934678\n",
      "Interasi-4, x2=0.625000 and f(x2)=0.185963\n",
      "Interasi-5, x2=0.937500 and f(x2)=-0.345695\n",
      "Interasi-6, x2=0.781250 and f(x2)=-0.071216\n",
      "Interasi-7, x2=0.703125 and f(x2)=0.059700\n",
      "Interasi-8, x2=0.742188 and f(x2)=-0.005196\n",
      "Interasi-9, x2=0.722656 and f(x2)=0.027395\n",
      "Interasi-10, x2=0.732422 and f(x2)=0.011135\n",
      "Interasi-11, x2=0.737305 and f(x2)=0.002979\n",
      "Interasi-12, x2=0.739746 and f(x2)=-0.001106\n",
      "Interasi-13, x2=0.738525 and f(x2)=0.000937\n",
      "Interasi-14, x2=0.739136 and f(x2)=-0.000085\n",
      "Interasi-15, x2=0.738831 and f(x2)=0.000426\n",
      "Interasi-16, x2=0.738983 and f(x2)=0.000171\n",
      "Interasi-17, x2=0.739059 and f(x2)=0.000043\n",
      "Interasi-18, x2=0.739098 and f(x2)=-0.000021\n",
      "Interasi-19, x2=0.739079 and f(x2)=0.000011\n",
      "Interasi-20, x2=0.739088 and f(x2)=-0.000005\n",
      "\n",
      "Required root is:0.73908806\n"
     ]
    }
   ],
   "source": [
    "import math\n",
    "\n",
    "def f(x):\n",
    "    return math.cos(x)-x\n",
    "\n",
    "#implementing bisection method\n",
    "#x0 and x1 are initial guess, e=error\n",
    "def bisection(x0,x1,e):\n",
    "    step=1\n",
    "    print(\"\\n\\n*** BISECTION METHOD IMPLEMENTATION ***\")\n",
    "    condition=True\n",
    "    while condition:\n",
    "        x2=(x0+x1)/2\n",
    "        print(\"Interasi-%d, x2=%0.6f and f(x2)=%0.6f\" % (step,x2,f(x2)))\n",
    "        \n",
    "        if f(x0) * f(x2) < 0:\n",
    "            x1=x2\n",
    "        else:\n",
    "            x0=x2\n",
    "            \n",
    "        step=step+1\n",
    "        condition=abs(f(x2))>e\n",
    "        \n",
    "    print(\"\\nRequired root is:%0.8f\"%x2)\n",
    "    \n",
    "#input\n",
    "x0=input(\"first guess: \")\n",
    "x1=input(\"second guess: \")\n",
    "e=input(\"tolerable error: \")\n",
    "#input to float\n",
    "x0=float(x0)\n",
    "x1=float(x1)\n",
    "e=float(e)\n",
    "\n",
    "#checking the initial guess values\n",
    "if f(x0) * f(x1) > 0.0:\n",
    "    print(\"nilai akar tidak berada diantara keduanya\")\n",
    "    print(\"coba nilai tebakan lainnya\")\n",
    "else:\n",
    "    bisection(x0,x1,e)"
   ]
  },
  {
   "cell_type": "code",
   "execution_count": null,
   "metadata": {},
   "outputs": [],
   "source": []
  },
  {
   "cell_type": "code",
   "execution_count": null,
   "metadata": {},
   "outputs": [],
   "source": []
  }
 ],
 "metadata": {
  "kernelspec": {
   "display_name": "Python 3",
   "language": "python",
   "name": "python3"
  },
  "language_info": {
   "codemirror_mode": {
    "name": "ipython",
    "version": 3
   },
   "file_extension": ".py",
   "mimetype": "text/x-python",
   "name": "python",
   "nbconvert_exporter": "python",
   "pygments_lexer": "ipython3",
   "version": "3.8.5"
  }
 },
 "nbformat": 4,
 "nbformat_minor": 4
}
